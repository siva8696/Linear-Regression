{
  "nbformat": 4,
  "nbformat_minor": 0,
  "metadata": {
    "colab": {
      "name": "Linear Regression with SGD Implementation.ipynb",
      "provenance": []
    },
    "kernelspec": {
      "name": "python3",
      "display_name": "Python 3"
    }
  },
  "cells": [
    {
      "cell_type": "markdown",
      "metadata": {
        "id": "VcIyR6zBNer-",
        "colab_type": "text"
      },
      "source": [
        "<h2> Linear Regression on Boston dataset </h2>"
      ]
    },
    {
      "cell_type": "code",
      "metadata": {
        "id": "UHE7vAS6NtYK",
        "colab_type": "code",
        "colab": {}
      },
      "source": [
        "import warnings\n",
        "warnings.filterwarnings(\"ignore\")\n",
        "from sklearn.datasets import load_boston\n",
        "from random import seed\n",
        "from random import randrange\n",
        "from csv import reader\n",
        "from math import sqrt\n",
        "from sklearn import preprocessing\n",
        "import pandas as pd\n",
        "import numpy as np\n",
        "import matplotlib.pyplot as plt\n",
        "from prettytable import PrettyTable\n",
        "from sklearn.linear_model import SGDRegressor\n",
        "from sklearn import preprocessing\n",
        "from sklearn.metrics import mean_squared_error \n",
        "from sklearn.model_selection import train_test_split\n",
        "from sklearn.linear_model import LinearRegression"
      ],
      "execution_count": 0,
      "outputs": []
    },
    {
      "cell_type": "code",
      "metadata": {
        "id": "I244IgW6N64A",
        "colab_type": "code",
        "outputId": "3220b220-d2c3-41a5-b8fc-fe56cde70ab9",
        "colab": {
          "base_uri": "https://localhost:8080/",
          "height": 51
        }
      },
      "source": [
        "#Performing Linear Regression on Boston Dataset\n",
        "Data = load_boston()\n",
        "X = Data.data\n",
        "Y = Data.target\n",
        "print(\"The Shape of data is :\",X.shape)\n",
        "print(\"The Shape of target varibale is :\",Y.shape)"
      ],
      "execution_count": 2,
      "outputs": [
        {
          "output_type": "stream",
          "text": [
            "The Shape of data is : (506, 13)\n",
            "The Shape of target varibale is : (506,)\n"
          ],
          "name": "stdout"
        }
      ]
    },
    {
      "cell_type": "code",
      "metadata": {
        "id": "eIDrv_YLOEoS",
        "colab_type": "code",
        "outputId": "66b41680-d482-496a-cae2-8eabf8b7b8dd",
        "colab": {
          "base_uri": "https://localhost:8080/",
          "height": 938
        }
      },
      "source": [
        "#Describe the features in data\n",
        "print(Data.feature_names)\n",
        "print(Data.DESCR)"
      ],
      "execution_count": 3,
      "outputs": [
        {
          "output_type": "stream",
          "text": [
            "['CRIM' 'ZN' 'INDUS' 'CHAS' 'NOX' 'RM' 'AGE' 'DIS' 'RAD' 'TAX' 'PTRATIO'\n",
            " 'B' 'LSTAT']\n",
            ".. _boston_dataset:\n",
            "\n",
            "Boston house prices dataset\n",
            "---------------------------\n",
            "\n",
            "**Data Set Characteristics:**  \n",
            "\n",
            "    :Number of Instances: 506 \n",
            "\n",
            "    :Number of Attributes: 13 numeric/categorical predictive. Median Value (attribute 14) is usually the target.\n",
            "\n",
            "    :Attribute Information (in order):\n",
            "        - CRIM     per capita crime rate by town\n",
            "        - ZN       proportion of residential land zoned for lots over 25,000 sq.ft.\n",
            "        - INDUS    proportion of non-retail business acres per town\n",
            "        - CHAS     Charles River dummy variable (= 1 if tract bounds river; 0 otherwise)\n",
            "        - NOX      nitric oxides concentration (parts per 10 million)\n",
            "        - RM       average number of rooms per dwelling\n",
            "        - AGE      proportion of owner-occupied units built prior to 1940\n",
            "        - DIS      weighted distances to five Boston employment centres\n",
            "        - RAD      index of accessibility to radial highways\n",
            "        - TAX      full-value property-tax rate per $10,000\n",
            "        - PTRATIO  pupil-teacher ratio by town\n",
            "        - B        1000(Bk - 0.63)^2 where Bk is the proportion of blacks by town\n",
            "        - LSTAT    % lower status of the population\n",
            "        - MEDV     Median value of owner-occupied homes in $1000's\n",
            "\n",
            "    :Missing Attribute Values: None\n",
            "\n",
            "    :Creator: Harrison, D. and Rubinfeld, D.L.\n",
            "\n",
            "This is a copy of UCI ML housing dataset.\n",
            "https://archive.ics.uci.edu/ml/machine-learning-databases/housing/\n",
            "\n",
            "\n",
            "This dataset was taken from the StatLib library which is maintained at Carnegie Mellon University.\n",
            "\n",
            "The Boston house-price data of Harrison, D. and Rubinfeld, D.L. 'Hedonic\n",
            "prices and the demand for clean air', J. Environ. Economics & Management,\n",
            "vol.5, 81-102, 1978.   Used in Belsley, Kuh & Welsch, 'Regression diagnostics\n",
            "...', Wiley, 1980.   N.B. Various transformations are used in the table on\n",
            "pages 244-261 of the latter.\n",
            "\n",
            "The Boston house-price data has been used in many machine learning papers that address regression\n",
            "problems.   \n",
            "     \n",
            ".. topic:: References\n",
            "\n",
            "   - Belsley, Kuh & Welsch, 'Regression diagnostics: Identifying Influential Data and Sources of Collinearity', Wiley, 1980. 244-261.\n",
            "   - Quinlan,R. (1993). Combining Instance-Based and Model-Based Learning. In Proceedings on the Tenth International Conference of Machine Learning, 236-243, University of Massachusetts, Amherst. Morgan Kaufmann.\n",
            "\n"
          ],
          "name": "stdout"
        }
      ]
    },
    {
      "cell_type": "code",
      "metadata": {
        "id": "HyCLZqeZPdL5",
        "colab_type": "code",
        "colab": {}
      },
      "source": [
        "#Converting into Data Frame\n",
        "X_data = pd.DataFrame(X)\n",
        "Y_data = np.array(pd.DataFrame(Y))"
      ],
      "execution_count": 0,
      "outputs": []
    },
    {
      "cell_type": "code",
      "metadata": {
        "id": "JjH5tMmHPxrb",
        "colab_type": "code",
        "colab": {}
      },
      "source": [
        "#Dividing the data into train and test\n",
        "X_train, X_test, Y_train, Y_test = train_test_split( X_data,Y_data,test_size=0.3)"
      ],
      "execution_count": 0,
      "outputs": []
    },
    {
      "cell_type": "code",
      "metadata": {
        "id": "9dLrFnJiP4iY",
        "colab_type": "code",
        "colab": {
          "base_uri": "https://localhost:8080/",
          "height": 51
        },
        "outputId": "f917839c-e466-4348-8116-a3a186fce990"
      },
      "source": [
        "#Performing the standardisation on train and test data\n",
        "scaler = preprocessing.StandardScaler().fit(X_train)\n",
        "X_train_sc = scaler.transform(X_train)\n",
        "X_test_sc=scaler.transform(X_test)\n",
        "print(\"The shape of train data after standardisation is :\",X_train_sc.shape)\n",
        "print(\"The shape of test data after standardisation is :\",X_test_sc.shape)"
      ],
      "execution_count": 8,
      "outputs": [
        {
          "output_type": "stream",
          "text": [
            "The shape of train data after standardisation is : (354, 13)\n",
            "The shape of test data after standardisation is : (152, 13)\n"
          ],
          "name": "stdout"
        }
      ]
    },
    {
      "cell_type": "markdown",
      "metadata": {
        "id": "OKS9Vg2oQCmN",
        "colab_type": "text"
      },
      "source": [
        "<h3> Apply Linear Regression using SKlearn </h3>"
      ]
    },
    {
      "cell_type": "code",
      "metadata": {
        "id": "b7qqTkGFP_VD",
        "colab_type": "code",
        "outputId": "737d6132-cc3f-44a4-a2f2-82c29369223f",
        "colab": {
          "base_uri": "https://localhost:8080/",
          "height": 350
        }
      },
      "source": [
        "#Applying SGDRegressor on data set with alpha value as 0.08 and lerning rate as 'optimal'\n",
        "clf = SGDRegressor(loss='squared_loss',alpha=0.8,penalty=None, learning_rate='optimal')\n",
        "clf.fit(X_train_sc,Y_train)\n",
        "\n",
        "plt.figure(figsize=(7,5))\n",
        "plt.scatter(Y_train, clf.predict(X_train_sc))\n",
        "#plt.ylim((0,50))\n",
        "plt.title('scatter plot between actual y and predicted y')\n",
        "plt.xlabel('actual y')\n",
        "plt.ylabel('predicted y')\n",
        "plt.grid()\n",
        "plt.show()"
      ],
      "execution_count": 10,
      "outputs": [
        {
          "output_type": "display_data",
          "data": {
            "image/png": "[encoded data removed]",
            "text/plain": [
              "<Figure size 504x360 with 1 Axes>"
            ]
          },
          "metadata": {
            "tags": []
          }
        }
      ]
    },
    {
      "cell_type": "code",
      "metadata": {
        "id": "z3z9ry68Qprc",
        "colab_type": "code",
        "outputId": "8188df1e-e0b2-45bc-abff-2d8233f031b8",
        "colab": {
          "base_uri": "https://localhost:8080/",
          "height": 85
        }
      },
      "source": [
        "#print the weight and intercept term of SGDRegressor\n",
        "print(\"Weight Vector is :\",clf.coef_)\n",
        "print(\"Intercept term is :\",clf.intercept_)"
      ],
      "execution_count": 11,
      "outputs": [
        {
          "output_type": "stream",
          "text": [
            "Weight Vector is : [-2.1862974   0.3185696   0.02726103  0.78988184 -1.30739987  5.05864291\n",
            " -4.78503287 -4.44727969  5.39779227 -4.13644723 -1.93486646  1.70663967\n",
            "  0.92305881]\n",
            "Intercept term is : [22.22605672]\n"
          ],
          "name": "stdout"
        }
      ]
    },
    {
      "cell_type": "code",
      "metadata": {
        "id": "9UM3JpVmRIf5",
        "colab_type": "code",
        "outputId": "d2aa56af-da27-4444-b503-dcb9eae3ca4e",
        "colab": {
          "base_uri": "https://localhost:8080/",
          "height": 51
        }
      },
      "source": [
        "#Mean squared error of train and test data\n",
        "MSE_sklearn_train = mean_squared_error(Y_train,clf.predict(X_train_sc))\n",
        "MSE_sklearn_test = mean_squared_error(Y_test,clf.predict(X_test_sc))\n",
        "print(\"The mean squared error of train data with the help of Sklearn is :\",MSE_sklearn_train)\n",
        "print(\"The mean squared error of test data with the help of Sklearn is :\",MSE_sklearn_test)"
      ],
      "execution_count": 12,
      "outputs": [
        {
          "output_type": "stream",
          "text": [
            "The mean squared error of train data with the help of Sklearn is : 34.01708233682353\n",
            "The mean squared error of test data with the help of Sklearn is : 38.89317709023197\n"
          ],
          "name": "stdout"
        }
      ]
    },
    {
      "cell_type": "markdown",
      "metadata": {
        "id": "GjJZ5kqARtkJ",
        "colab_type": "text"
      },
      "source": [
        "<h3>Manual Implementation of SGD:</h3>"
      ]
    },
    {
      "cell_type": "code",
      "metadata": {
        "id": "9oMMeL5ZRWrD",
        "colab_type": "code",
        "colab": {}
      },
      "source": [
        "#Implementation of SGD \n",
        "def SGDman(X,Y,sample_size,lr,n_epoc):\n",
        "    #assigning the weight vector withe shape of features and assign it with zero\n",
        "    W_new=np.zeros(13)\n",
        "    b_new=0\n",
        "    #'t' is for epoch                \n",
        "    t=0 \n",
        "\n",
        "    while(t<=n_epoc):\n",
        "        W_old=W_new\n",
        "        b_old=b_new\n",
        "        x_len=np.size(X,0)\n",
        "        idx = np.random.randint(x_len, size=sample_size)\n",
        "        x_sample=X[idx]        \n",
        "        y_sample=Y[idx]                \n",
        "        W_grad=np.zeros(13)\n",
        "        b_=0   \n",
        "\n",
        "        for i in range(sample_size):\n",
        "            #Predicted y with the help of W and b \n",
        "            y_hat=np.asscalar(b_old+np.dot(W_old,x_sample[i]))\n",
        "            error=y_sample.item(i,0)-y_hat          \n",
        "            W_grad=W_grad+np.multiply(x_sample[i],error)              \n",
        "            b_=b_+error      \n",
        "\n",
        "        W_new=np.subtract(W_old,-2*lr*W_grad)        \n",
        "        b_new=np.subtract(b_old,-2*lr*b_)\n",
        "        \n",
        "        #If w_old and w_new is eqaual then terminate the loop\n",
        "        if(W_old==W_new).all():\n",
        "            break\n",
        "        t+=1        \n",
        "    return W_new,b_new,n_epoc"
      ],
      "execution_count": 0,
      "outputs": []
    },
    {
      "cell_type": "code",
      "metadata": {
        "id": "nb-nXvSA8AF9",
        "colab_type": "code",
        "colab": {}
      },
      "source": [
        "#Predict function with the optimal W and b\n",
        "def pred(x,w,b):\n",
        "  y_pred = []\n",
        "  for i in range(len(x)):\n",
        "    y = np.asscalar(np.dot(w,x[i])+b)\n",
        "    y_pred.append(y)\n",
        "  return y_pred"
      ],
      "execution_count": 0,
      "outputs": []
    },
    {
      "cell_type": "code",
      "metadata": {
        "id": "TY48DhQgMXau",
        "colab_type": "code",
        "outputId": "25567772-a3cb-46e7-a47a-97618f9c7733",
        "colab": {
          "base_uri": "https://localhost:8080/",
          "height": 34
        }
      },
      "source": [
        "sample_size=10\n",
        "#n_epoc=100\n",
        "mse = []\n",
        "r = [0.0001,0.001,0.01]\n",
        "for i in r:\n",
        "  W_train,b_train,n_iter_train=SGDman(X_train_sc,Y_train,sample_size,lr=i,n_epoc=10000)\n",
        "  y_pred_train=pred(X_train_sc,W_train,b_train)\n",
        "  #np.all(np.isfinite(y_pred_train))\n",
        "  mse_error = mean_squared_error(Y_train,y_pred_train)\n",
        "  #mse_error=np.around(mse_error,4)\n",
        "  mse.append(mse_error)\n",
        "low_mse = np.argmin(mse)\n",
        "optimal_lr_rate = r[low_mse]\n",
        "print(\"optimal learning rate :\",optimal_lr_rate)"
      ],
      "execution_count": 16,
      "outputs": [
        {
          "output_type": "stream",
          "text": [
            "optimal learning rate : 0.0001\n"
          ],
          "name": "stdout"
        }
      ]
    },
    {
      "cell_type": "code",
      "metadata": {
        "id": "Nc-lwU0UMdM6",
        "colab_type": "code",
        "outputId": "76cfed98-36b6-4abe-e4f7-28688019daa2",
        "colab": {
          "base_uri": "https://localhost:8080/",
          "height": 34
        }
      },
      "source": [
        "#Finding the Train data Mean Squared Error\n",
        "W_train,b_train,n_iter_train=SGDman(X_train_sc,Y_train,sample_size,lr=0.0001,n_epoc=10000)\n",
        "y_pred_train=pred(X_train_sc,W_train,b_train)\n",
        "train_MSE=mean_squared_error(Y_train,y_pred_train)\n",
        "print(\"Train Mean Squared Error is\",train_MSE)"
      ],
      "execution_count": 20,
      "outputs": [
        {
          "output_type": "stream",
          "text": [
            "Train Mean Squared Error is 21.895655376591694\n"
          ],
          "name": "stdout"
        }
      ]
    },
    {
      "cell_type": "code",
      "metadata": {
        "id": "GtXxoJppNa1P",
        "colab_type": "code",
        "outputId": "7262a997-bf07-4ddc-9e6a-664d2a7ffd87",
        "colab": {
          "base_uri": "https://localhost:8080/",
          "height": 34
        }
      },
      "source": [
        "#Finding the Test data Mean Squared Error\n",
        "W_test,b_test,n_iter_train=SGDman(X_test_sc,Y_test,sample_size,lr=0.0001,n_epoc=10000)\n",
        "y_pred_test=pred(X_test_sc,W_test,b_test)\n",
        "test_MSE=mean_squared_error(Y_test,y_pred_test)\n",
        "print(\"Test Mean Squared Error is\",test_MSE)"
      ],
      "execution_count": 21,
      "outputs": [
        {
          "output_type": "stream",
          "text": [
            "Test Mean Squared Error is 21.094311152310766\n"
          ],
          "name": "stdout"
        }
      ]
    },
    {
      "cell_type": "code",
      "metadata": {
        "id": "ZBDV1FGfKxUE",
        "colab_type": "code",
        "outputId": "562faf10-9dec-4c5c-bcd6-4a1c30d0e8c9",
        "colab": {
          "base_uri": "https://localhost:8080/",
          "height": 350
        }
      },
      "source": [
        "#Plot the Train and test data with SGD Implementation function\n",
        "plt.figure(figsize=(7,5))\n",
        "plt.scatter(Y_train, clf.predict(X_train_sc), label='Sklearn train')\n",
        "plt.scatter(Y_train, y_pred_train,label='manual SGD train')\n",
        "plt.scatter(Y_test, y_pred_test,label='manual SGD test')\n",
        "#plt.ylim((0,50))\n",
        "plt.title('scatter plot between actual y and predicted y')\n",
        "plt.xlabel('actual y')\n",
        "plt.ylabel('predicted y')\n",
        "plt.legend()\n",
        "plt.grid()\n",
        "plt.show()"
      ],
      "execution_count": 22,
      "outputs": [
        {
          "output_type": "display_data",
          "data": {
            "image/png": "[encoded data removed]",
            "text/plain": [
              "<Figure size 504x360 with 1 Axes>"
            ]
          },
          "metadata": {
            "tags": []
          }
        }
      ]
    },
    {
      "cell_type": "code",
      "metadata": {
        "id": "eZMtYAVTj0-0",
        "colab_type": "code",
        "colab": {
          "base_uri": "https://localhost:8080/",
          "height": 119
        },
        "outputId": "f1819cba-0a55-4eee-c760-bb82ffe8d41c"
      },
      "source": [
        "#Display the results in pretty table\n",
        "from prettytable import PrettyTable\n",
        "x = PrettyTable()\n",
        "x.field_names = [\"Implementation Method\",\"Learning rate\",\"Train_Mean_Squared_Error\",\"Test_Mean_Squared_Error\"]\n",
        "x.add_row([\"Sklearn SGDRegressor\",\"optimal\",MSE_sklearn_train,MSE_sklearn_test])\n",
        "x.add_row([\"SGD Implementation\",optimal_lr_rate,train_MSE,test_MSE])\n",
        "print(x)"
      ],
      "execution_count": 24,
      "outputs": [
        {
          "output_type": "stream",
          "text": [
            "+-----------------------+---------------+--------------------------+-------------------------+\n",
            "| Implementation Method | Learning rate | Train_Mean_Squared_Error | Test_Mean_Squared_Error |\n",
            "+-----------------------+---------------+--------------------------+-------------------------+\n",
            "|  Sklearn SGDRegressor |    optimal    |    34.01708233682353     |    38.89317709023197    |\n",
            "|   SGD Implementation  |     0.0001    |    21.895655376591694    |    21.094311152310766   |\n",
            "+-----------------------+---------------+--------------------------+-------------------------+\n"
          ],
          "name": "stdout"
        }
      ]
    },
    {
      "cell_type": "markdown",
      "metadata": {
        "id": "dxoGcwZKimRY",
        "colab_type": "text"
      },
      "source": [
        "From this we can clearly observed that, with the help of SGD the mean squared error for train and test got reduced by 39%. "
      ]
    }
  ]
}